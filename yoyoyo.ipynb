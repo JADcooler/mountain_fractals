{
 "cells": [
  {
   "cell_type": "code",
   "execution_count": 1,
   "id": "65b3cb89-5096-49fc-b4d6-afe218292099",
   "metadata": {},
   "outputs": [],
   "source": [
    "%gui qt\n",
    "from numpy import *\n",
    "from mayavi import mlab"
   ]
  },
  {
   "cell_type": "code",
   "execution_count": 2,
   "id": "999d98aa-8143-4441-96f7-963ef2a39562",
   "metadata": {},
   "outputs": [
    {
     "data": {
      "text/plain": [
       "<mayavi.modules.surface.Surface at 0x195181fc720>"
      ]
     },
     "execution_count": 2,
     "metadata": {},
     "output_type": "execute_result"
    }
   ],
   "source": [
    "mlab.test_contour_surf()"
   ]
  },
  {
   "cell_type": "code",
   "execution_count": 7,
   "id": "2737be8f-ac97-4d91-8ffa-beeb5c7e21ea",
   "metadata": {},
   "outputs": [],
   "source": [
    "mlab.clf()\n"
   ]
  },
  {
   "cell_type": "code",
   "execution_count": 23,
   "id": "52a1733a-0599-4e5a-959f-1b138735440f",
   "metadata": {},
   "outputs": [
    {
     "name": "stdout",
     "output_type": "stream",
     "text": [
      "Warning: the range of your scalar values differs by more than a factor 100 than the range of the grid values and you did not specify a warp_scale. You could try warp_scale=\"auto\".\n",
      "Warning: the range of your scalar values differs by more than a factor 100 than the range of the grid values and you did not specify a warp_scale. You could try warp_scale=\"auto\".\n"
     ]
    },
    {
     "data": {
      "text/plain": [
       "<mayavi.tools.animator.Animator at 0x195199ec1d0>"
      ]
     },
     "execution_count": 23,
     "metadata": {},
     "output_type": "execute_result"
    }
   ],
   "source": [
    "# test pyramid animation works yayyy\n",
    "LEN = 100\n",
    "x,y = mgrid[0:LEN:1, 0:LEN:1]\n",
    "z = ones((LEN,LEN))\n",
    "\n",
    "\n",
    "mlab.clf()\n",
    "mlab.surf(x,y,z)\n",
    "change = mlab.surf(x,y,ones((LEN,LEN)))\n",
    "\n",
    "@mlab.animate(delay=20)\n",
    "def anim():\n",
    "    for i in range(LEN):\n",
    "        z[i:-i, i:-i] = i*1.4\n",
    "        change.mlab_source.scalars = z\n",
    "        yield\n",
    "anim()"
   ]
  },
  {
   "cell_type": "code",
   "execution_count": null,
   "id": "37d799e2-8ed9-4663-a78e-cdeb115e07f6",
   "metadata": {},
   "outputs": [],
   "source": [
    "from time import sleep"
   ]
  },
  {
   "cell_type": "code",
   "execution_count": 12,
   "id": "570d5918-4102-4014-aac3-af61e386377a",
   "metadata": {},
   "outputs": [],
   "source": [
    "#diamond square method check\n",
    "def avg(a):\n",
    "    s = [0,0]\n",
    "    for i in a:\n",
    "        s[0] += i[0]\n",
    "        s[1] += i[1]\n",
    "    return (s[0]//len(a),s[1]//len(a))\n",
    "\n",
    "MAX_LEN = 20\n",
    "\n",
    "asd = [   [0 for i in range(MAX_LEN)        ] for i in range(MAX_LEN) ]\n",
    "\n",
    "from pprint import pprint\n",
    "def printit():\n",
    "    pprint(asd)\n",
    "    print()\n",
    "\n",
    "def setit(c):\n",
    "    asd[c[0]][c[1]] += 1\n",
    "\n",
    "MASTER_Q = []\n",
    "\n",
    "def addToQ(a):\n",
    "    MASTER_Q.append(a)"
   ]
  },
  {
   "cell_type": "code",
   "execution_count": 20,
   "id": "2f31effd-cce6-4c84-8ebd-5e940acfe77d",
   "metadata": {
    "jupyter": {
     "source_hidden": true
    }
   },
   "outputs": [
    {
     "name": "stdout",
     "output_type": "stream",
     "text": [
      "Warning: the range of your scalar values differs by more than a factor 100 than the range of the grid values and you did not specify a warp_scale. You could try warp_scale=\"auto\".\n",
      "Warning: the range of your scalar values differs by more than a factor 100 than the range of the grid values and you did not specify a warp_scale. You could try warp_scale=\"auto\".\n"
     ]
    },
    {
     "data": {
      "text/plain": [
       "<mayavi.tools.animator.Animator at 0x19518f61d00>"
      ]
     },
     "execution_count": 20,
     "metadata": {},
     "output_type": "execute_result"
    }
   ],
   "source": [
    "LEN = 100\n",
    "x,y = mgrid[0:LEN:1, 0:LEN:1]\n",
    "z = ones((LEN,LEN))\n",
    "\n",
    "mlab.clf()\n",
    "\n",
    "change = mlab.surf(x,y,ones((LEN,LEN)))\n",
    "\n",
    "asd = zeros((LEN,LEN))\n",
    "mlab.surf(x,y,asd)\n",
    "@mlab.animate(delay=20)\n",
    "def anim(number):\n",
    "\n",
    "    for i in range(number):\n",
    "        a = MASTER_Q[0]\n",
    "        MASTER_Q = MASTER_Q[1:]\n",
    "        \n",
    "        print(\"\\nstuff \",a)\n",
    "        s = avg(a)\n",
    "\n",
    "        x = avg(a[:2] ) #0 and 1\n",
    "        y = avg(a[1:2] + a[3:] ) #1 and 2\n",
    "        z = avg(a[2:] ) #2 and 3\n",
    "        w = avg(a[2:3] + a[:1] ) #3 and 0\n",
    "\n",
    "        print(\"result is \",s, \" with \",x,y,z,w,'\\n')\n",
    "\n",
    "        setit(s)\n",
    "        setit(x)\n",
    "        setit(y)\n",
    "        setit(z)\n",
    "        setit(w)\n",
    "       \n",
    "\n",
    "        addToQ([a[0], x ,w, s])\n",
    "        addToQ([x ,a[1] ,s, y])\n",
    "        addToQ([w , s ,a[2], z])\n",
    "        addToQ([s, y , z , a[3]])\n",
    "\n",
    "        change.mlab_source.scalars = asd\n",
    "        yield\n",
    "        \n",
    "anim(100)"
   ]
  },
  {
   "cell_type": "code",
   "execution_count": 71,
   "id": "8f392b93-41f7-48f7-b79f-1ac3589f5b71",
   "metadata": {},
   "outputs": [],
   "source": [
    "mlab.clf()"
   ]
  },
  {
   "cell_type": "code",
   "execution_count": 72,
   "id": "16c79b7e-deea-40b0-9084-c6a29884469c",
   "metadata": {},
   "outputs": [
    {
     "data": {
      "text/plain": [
       "<mayavi.tools.animator.Animator at 0x19523bafb50>"
      ]
     },
     "execution_count": 72,
     "metadata": {},
     "output_type": "execute_result"
    }
   ],
   "source": [
    "# exec cell\n",
    "\n",
    "LEN = 10\n",
    "#diamond square method animation\n",
    "def avg(a):\n",
    "    s = [0,0]\n",
    "    for i in a:\n",
    "        s[0] += i[0]\n",
    "        s[1] += i[1]\n",
    "    return (s[0]//len(a),s[1]//len(a))\n",
    "\n",
    "from pprint import pprint\n",
    "def printit():\n",
    "    pprint(asd)\n",
    "    print()\n",
    "\n",
    "def setit(c):\n",
    "    asd[c[0]][c[1]] += 1\n",
    "\n",
    "MASTER_Q = []\n",
    "\n",
    "def addToQ(a):\n",
    "    MASTER_Q.append(a)\n",
    "\n",
    "\n",
    "x,y = mgrid[0:LEN:1, 0:LEN:1]\n",
    "\n",
    "mlab.clf()\n",
    "\n",
    "\n",
    "asd = ones((LEN,LEN))\n",
    "\n",
    "change = mlab.surf(x,y,asd, warp_scale=\"auto\")\n",
    "\n",
    "@mlab.animate(delay=20)\n",
    "def anim():\n",
    "    for i in range(100):\n",
    "        a = MASTER_Q[0]\n",
    "        MASTER_Q = MASTER_Q[1:]        \n",
    "        print(\"\\nstuff \",a)\n",
    "        s = avg(a)\n",
    "        x = avg(a[:2] ) #0 and 1\n",
    "        y = avg(a[1:2] + a[3:] ) #1 and 2\n",
    "        z = avg(a[2:] ) #2 and 3\n",
    "        w = avg(a[2:3] + a[:1] ) #3 and 0\n",
    "        print(\"result is \",s, \" with \",x,y,z,w,'\\n')\n",
    "        setit(s)\n",
    "        setit(x)\n",
    "        setit(y)\n",
    "        setit(z)\n",
    "        setit(w)\n",
    "\n",
    "        addToQ([s, y , z , a[3]])\n",
    "        addToQ([a[0], x ,w, s])\n",
    "        addToQ([x ,a[1] ,s, y])\n",
    "        addToQ([w , s ,a[2], z])\n",
    "        \n",
    "        \n",
    "        global asd\n",
    "        print(asd)\n",
    "        global change\n",
    "        change.mlab_source.scalars = asd\n",
    "        yield\n",
    "    \n",
    "start = [(0,0),(0,LEN-1), (LEN-1,0), (LEN-1,LEN-1)]\n",
    "addToQ(start)\n",
    "[setit(i) for i in start]\n",
    "\n",
    "anim()\n",
    "#exec cell end"
   ]
  },
  {
   "cell_type": "code",
   "execution_count": 96,
   "id": "bbac6e53-28f3-4888-993a-bff1204597e9",
   "metadata": {},
   "outputs": [],
   "source": [
    "mlab.clf()"
   ]
  },
  {
   "cell_type": "code",
   "execution_count": 100,
   "id": "92f8eadd-0214-4d16-9309-b6c4ad64a41f",
   "metadata": {},
   "outputs": [],
   "source": [
    "# exec cell\n",
    "LEN = 2**(10) + 1\n",
    "#diamond square method animation\n",
    "from random import random\n",
    "\n",
    "#r = random()\n",
    "r = 3\n",
    "h = 2**(-0.2)\n",
    "\n",
    "def avg(a):\n",
    "    s = [0,0]\n",
    "    for i in a:\n",
    "        s[0] += i[0]\n",
    "        s[1] += i[1]\n",
    "    return ( (s[0]+ r)//len(a) ,(s[1]+r)//len(a))\n",
    "\n",
    "from pprint import pprint\n",
    "def printit():\n",
    "    pprint(asd)\n",
    "    print()\n",
    "\n",
    "def setit(c):\n",
    "    c = [int(i) for i in c]\n",
    "    asd[c[0]][c[1]] += 1\n",
    "\n",
    "MASTER_Q = []\n",
    "\n",
    "def addToQ(a):\n",
    "    MASTER_Q.append(a)\n",
    "\n",
    "\n",
    "x,y = mgrid[0:LEN+10:1, 0:LEN+10:1]\n",
    "\n",
    "mlab.clf()\n",
    "\n",
    "\n",
    "asd = ones((LEN+10,LEN+10))\n",
    "\n",
    "start = [(0,0),(0,LEN-1), (LEN-1,0), (LEN-1,LEN-1)]\n",
    "addToQ(start)\n",
    "[setit(i) for i in start]\n",
    "\n",
    "\n",
    "\n",
    "for i in range(15000):\n",
    "        a = MASTER_Q[0]\n",
    "        MASTER_Q = MASTER_Q[1:]        \n",
    "        \n",
    "        s = avg(a) \n",
    "        x = avg(a[:2] ) #0 and 1\n",
    "        y = avg(a[1:2] + a[3:] ) #1 and 2\n",
    "        z = avg(a[2:] ) #2 and 3\n",
    "        w = avg(a[2:3] + a[:1] ) #3 and 0\n",
    " \n",
    "        setit(s)\n",
    "        setit(x)\n",
    "        setit(y)\n",
    "        setit(z)\n",
    "        setit(w)\n",
    "\n",
    "\n",
    "        addToQ([x ,a[1] ,s, y])\n",
    "        addToQ([s, y , z , a[3]])\n",
    "        addToQ([a[0], x ,w, s])        \n",
    "        addToQ([w , s ,a[2], z])\n",
    "        global r\n",
    "        r*=h\n",
    "\n",
    "change = mlab.surf(x,y,asd, warp_scale=\"auto\")\n",
    "\n"
   ]
  },
  {
   "cell_type": "code",
   "execution_count": 104,
   "id": "adf4442a-b64f-415a-a6ed-bff5d47349b4",
   "metadata": {},
   "outputs": [],
   "source": [
    "mlab.clf()"
   ]
  },
  {
   "cell_type": "code",
   "execution_count": 1,
   "id": "ccf1546b-935a-4071-a397-b2350adfc647",
   "metadata": {},
   "outputs": [],
   "source": [
    "import numpy, random\n",
    "from mayavi import mlab\n",
    "\n",
    "levels = 10\n",
    "size = 2 ** (levels - 1)\n",
    "height  = numpy.zeros((size + 1, size + 1))\n",
    "\n",
    "for lev in range(levels):\n",
    "  step = size // 2 ** lev\n",
    "  for y in range(0, size + 1, step):\n",
    "    jumpover = 1 - (y // step) % 2 if lev > 0 else 0\n",
    "    for x in range(step * jumpover, size + 1, step * (1 + jumpover)):\n",
    "      pointer = 1 - (x // step) % 2 + 2 * jumpover if lev > 0 else 3\n",
    "      yref, xref = step * (1 - pointer // 2), step * (1 - pointer % 2)\n",
    "      corner1 = height[y - yref, x - xref]\n",
    "      corner2 = height[y + yref, x + xref]\n",
    "      average = (corner1 + corner2) / 2.0\n",
    "      variation = step * (random.random() - 0.5)\n",
    "      height[y,x] = average + variation if lev > 0 else 0\n",
    "\n",
    "xg, yg = numpy.mgrid[-1:1:1j*size,-1:1:1j*size]\n",
    "surf = mlab.surf(xg, yg, height, colormap='gist_earth', warp_scale='auto')\n"
   ]
  },
  {
   "cell_type": "code",
   "execution_count": null,
   "id": "cecca49d-2021-49c8-b240-46afd2eafe13",
   "metadata": {},
   "outputs": [],
   "source": []
  }
 ],
 "metadata": {
  "kernelspec": {
   "display_name": "Python 3 (ipykernel)",
   "language": "python",
   "name": "python3"
  },
  "language_info": {
   "codemirror_mode": {
    "name": "ipython",
    "version": 3
   },
   "file_extension": ".py",
   "mimetype": "text/x-python",
   "name": "python",
   "nbconvert_exporter": "python",
   "pygments_lexer": "ipython3",
   "version": "3.11.3"
  }
 },
 "nbformat": 4,
 "nbformat_minor": 5
}
