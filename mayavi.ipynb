{
 "cells": [
  {
   "cell_type": "code",
   "execution_count": 1,
   "id": "7bd6f1ee-1fd5-43ed-859f-72d07e1c634c",
   "metadata": {},
   "outputs": [],
   "source": [
    "%gui qt"
   ]
  },
  {
   "cell_type": "code",
   "execution_count": 2,
   "id": "ce6d439d-bd28-4f36-b827-76fb958e82c0",
   "metadata": {},
   "outputs": [],
   "source": [
    "from mayavi import mlab"
   ]
  },
  {
   "cell_type": "code",
   "execution_count": 3,
   "id": "195f292f-4817-45b2-b8a6-acafd3c770ed",
   "metadata": {},
   "outputs": [
    {
     "data": {
      "text/plain": [
       "<mayavi.modules.surface.Surface at 0x18c400c13a0>"
      ]
     },
     "execution_count": 3,
     "metadata": {},
     "output_type": "execute_result"
    }
   ],
   "source": [
    "mlab.test_contour_surf()"
   ]
  },
  {
   "cell_type": "code",
   "execution_count": 3,
   "id": "1b514a5d-8546-4c57-8fc8-4d54d6cabf22",
   "metadata": {},
   "outputs": [],
   "source": [
    "mlab.clf()"
   ]
  },
  {
   "cell_type": "code",
   "execution_count": 4,
   "id": "91b3b02b-80b2-4cde-8d2c-7c73c6739d9f",
   "metadata": {},
   "outputs": [],
   "source": [
    "from numpy import *"
   ]
  },
  {
   "cell_type": "code",
   "execution_count": null,
   "id": "ebbcabe7-b06b-452c-8c5a-2e0f613e6ce3",
   "metadata": {},
   "outputs": [],
   "source": [
    "import numpy as np"
   ]
  },
  {
   "cell_type": "code",
   "execution_count": 7,
   "id": "7b5ed113-f6c5-4bb6-b609-e198e0314e0c",
   "metadata": {},
   "outputs": [],
   "source": [
    "pi = 3.14159"
   ]
  },
  {
   "cell_type": "code",
   "execution_count": 13,
   "id": "41104b40-c056-40a5-b280-9dba2d8e45b3",
   "metadata": {},
   "outputs": [],
   "source": [
    "t = np.linspace(0, 10*pi, 1000)"
   ]
  },
  {
   "cell_type": "code",
   "execution_count": 19,
   "id": "151c8e84-725c-46a0-bd8a-a7a1ca6214da",
   "metadata": {},
   "outputs": [],
   "source": [
    "x,y = np.sin(t)*0.2, np.cos(t)*0.2"
   ]
  },
  {
   "cell_type": "code",
   "execution_count": 20,
   "id": "fd098323-04af-48e2-957e-d7dd9a3d7214",
   "metadata": {},
   "outputs": [],
   "source": [
    "z = 0.1*t "
   ]
  },
  {
   "cell_type": "code",
   "execution_count": 28,
   "id": "547c8aca-9168-44d4-9eee-1ba51b467439",
   "metadata": {},
   "outputs": [
    {
     "data": {
      "text/plain": [
       "<mayavi.modules.surface.Surface at 0x256914ecc70>"
      ]
     },
     "execution_count": 28,
     "metadata": {},
     "output_type": "execute_result"
    }
   ],
   "source": [
    "mlab.plot3d(x,y,z, color = (1,0,0))"
   ]
  },
  {
   "cell_type": "code",
   "execution_count": 29,
   "id": "d4a74d64-c2af-41c3-b6dc-49c2919b23b0",
   "metadata": {},
   "outputs": [
    {
     "data": {
      "text/plain": [
       "<mayavi.modules.glyph.Glyph at 0x2569e74ddf0>"
      ]
     },
     "execution_count": 29,
     "metadata": {},
     "output_type": "execute_result"
    }
   ],
   "source": [
    "mlab.points3d(x[-1], y[-1], z[-1])"
   ]
  },
  {
   "cell_type": "code",
   "execution_count": 49,
   "id": "6a4a894c-5b8c-4495-b987-75d0647171f6",
   "metadata": {},
   "outputs": [
    {
     "data": {
      "text/plain": [
       "array([[[0.        , 0.        , 0.        , ..., 0.        ,\n",
       "         0.        , 0.        ],\n",
       "        [0.03030303, 0.03030303, 0.03030303, ..., 0.03030303,\n",
       "         0.03030303, 0.03030303],\n",
       "        [0.06060606, 0.06060606, 0.06060606, ..., 0.06060606,\n",
       "         0.06060606, 0.06060606],\n",
       "        ...,\n",
       "        [2.93939394, 2.93939394, 2.93939394, ..., 2.93939394,\n",
       "         2.93939394, 2.93939394],\n",
       "        [2.96969697, 2.96969697, 2.96969697, ..., 2.96969697,\n",
       "         2.96969697, 2.96969697],\n",
       "        [3.        , 3.        , 3.        , ..., 3.        ,\n",
       "         3.        , 3.        ]],\n",
       "\n",
       "       [[0.        , 0.03030303, 0.06060606, ..., 2.93939394,\n",
       "         2.96969697, 3.        ],\n",
       "        [0.        , 0.03030303, 0.06060606, ..., 2.93939394,\n",
       "         2.96969697, 3.        ],\n",
       "        [0.        , 0.03030303, 0.06060606, ..., 2.93939394,\n",
       "         2.96969697, 3.        ],\n",
       "        ...,\n",
       "        [0.        , 0.03030303, 0.06060606, ..., 2.93939394,\n",
       "         2.96969697, 3.        ],\n",
       "        [0.        , 0.03030303, 0.06060606, ..., 2.93939394,\n",
       "         2.96969697, 3.        ],\n",
       "        [0.        , 0.03030303, 0.06060606, ..., 2.93939394,\n",
       "         2.96969697, 3.        ]]])"
      ]
     },
     "execution_count": 49,
     "metadata": {},
     "output_type": "execute_result"
    }
   ],
   "source": [
    "t = np.mgrid[0:3:100j, 0:3:100j]\n",
    "t"
   ]
  },
  {
   "cell_type": "code",
   "execution_count": 36,
   "id": "e8725e82-99a1-455e-8d64-5bc1aa68ed61",
   "metadata": {},
   "outputs": [],
   "source": [
    "from numpy import sin,cos, linspace, mgrid"
   ]
  },
  {
   "cell_type": "code",
   "execution_count": 75,
   "id": "b0913da8-e33a-4673-9373-c2b6fefaa119",
   "metadata": {},
   "outputs": [],
   "source": [
    "x,y = mgrid[-3:3:100j, -3:3:100j]"
   ]
  },
  {
   "cell_type": "code",
   "execution_count": 76,
   "id": "7c3dcc19-2fb7-4159-a36c-0c66d0e1b023",
   "metadata": {},
   "outputs": [],
   "source": [
    "z = sin(x*x + y*y)"
   ]
  },
  {
   "cell_type": "code",
   "execution_count": 77,
   "id": "26ee86b8-c03a-4df1-a090-e41c7d0ea4d4",
   "metadata": {},
   "outputs": [
    {
     "data": {
      "text/plain": [
       "<mayavi.modules.surface.Surface at 0x2569e3bfe20>"
      ]
     },
     "execution_count": 77,
     "metadata": {},
     "output_type": "execute_result"
    }
   ],
   "source": [
    "mlab.surf(x,y,z)"
   ]
  },
  {
   "cell_type": "code",
   "execution_count": 74,
   "id": "703cb732-760c-4f6c-a214-c6721cd2b0a8",
   "metadata": {},
   "outputs": [
    {
     "data": {
      "text/plain": [
       "<mayavi.modules.surface.Surface at 0x2569e4249f0>"
      ]
     },
     "execution_count": 74,
     "metadata": {},
     "output_type": "execute_result"
    }
   ],
   "source": [
    "# Create a grid of x and y coordinates\n",
    "x = np.linspace(-5, 5, 100)\n",
    "y = np.linspace(-5, 5, 100)\n",
    "X, Y = np.meshgrid(x, y)\n",
    "\n",
    "# Generate some z values based on the coordinates\n",
    "Z = np.sin(np.sqrt(X**2 + Y**2))\n",
    "\n",
    "# Plot the surface\n",
    "mlab.surf(X, Y, Z)"
   ]
  },
  {
   "cell_type": "code",
   "execution_count": 78,
   "id": "21069826-53a1-465a-97eb-4deb1ae264a6",
   "metadata": {},
   "outputs": [],
   "source": [
    "mlab.clf()\n",
    "from numpy import linspace, meshgrid, mgrid"
   ]
  },
  {
   "cell_type": "markdown",
   "id": "cc9492a7-ce9f-4dcc-9e7b-d2d9725eea02",
   "metadata": {},
   "source": [
    "t = linspace(-10,10,20)\n",
    "x,y = meshgrid(t,t)\n",
    "print(x,y)\n",
    "a,b = mgrid[-10:10:20j,-10:10:20j]\n",
    "print(a,b)\n",
    "print(x==a,y==b)"
   ]
  },
  {
   "cell_type": "code",
   "execution_count": 83,
   "id": "220914cb-0ee9-4221-a1e4-4289b7f399b7",
   "metadata": {},
   "outputs": [
    {
     "name": "stdout",
     "output_type": "stream",
     "text": [
      "[[-1.  1.]\n",
      " [-1.  1.]] [[-1. -1.]\n",
      " [ 1.  1.]]\n",
      "asd [[-1. -1.]\n",
      " [ 1.  1.]] [[-1.  1.]\n",
      " [-1.  1.]]\n",
      "[[ True  True]\n",
      " [ True  True]] [[ True  True]\n",
      " [ True  True]]\n"
     ]
    }
   ],
   "source": [
    "t = linspace(-1,1,2) \n",
    "x,y = meshgrid(t,t) \n",
    "print(x,y) \n",
    "a,b = mgrid[-1:1:2j,-1:1:2j] \n",
    "print(\"asd\",a,b) \n",
    "print(x==b,y==a)"
   ]
  },
  {
   "cell_type": "code",
   "execution_count": 88,
   "id": "f1d810bf-fe43-42fb-82c1-eb32dde2ff1e",
   "metadata": {},
   "outputs": [],
   "source": [
    "x,y = mgrid[-3:3:100j, -3:3:100j]\n",
    "t = linspace(-3,3,100)\n",
    "a,b = meshgrid(t,t)\n",
    "\n",
    "z = sin(x*x + y*y)\n",
    "c = sin(a*a + b*b)\n",
    "mlab.clf()"
   ]
  },
  {
   "cell_type": "code",
   "execution_count": 89,
   "id": "9956607f-fcc6-4b54-bf0a-b60b3a5ebcda",
   "metadata": {},
   "outputs": [
    {
     "data": {
      "text/plain": [
       "<mayavi.modules.surface.Surface at 0x2569c487380>"
      ]
     },
     "execution_count": 89,
     "metadata": {},
     "output_type": "execute_result"
    }
   ],
   "source": [
    "mlab.contour_surf(a,b,c)"
   ]
  },
  {
   "cell_type": "code",
   "execution_count": 100,
   "id": "af64844d-6fd0-48aa-b2ec-11d433716235",
   "metadata": {},
   "outputs": [
    {
     "data": {
      "text/plain": [
       "<mayavi.modules.surface.Surface at 0x2569e3ec810>"
      ]
     },
     "execution_count": 100,
     "metadata": {},
     "output_type": "execute_result"
    }
   ],
   "source": [
    "#wireframe sphere\n",
    "x,y = mgrid[0:2*pi:42j,0:2*pi:42j]\n",
    "z = cos(x)\n",
    "a = sin(x)*cos(y)\n",
    "b = sin(x)*sin(y)\n",
    "mlab.clf()\n",
    "mlab.mesh(a,b,z, representation = 'wireframe')"
   ]
  },
  {
   "cell_type": "code",
   "execution_count": 16,
   "id": "e1483b17-4c3b-45d1-827b-3b8b7de4e820",
   "metadata": {},
   "outputs": [
    {
     "name": "stdout",
     "output_type": "stream",
     "text": [
      "Warning: the range of your scalar values differs by more than a factor 100 than the range of the grid values and you did not specify a warp_scale. You could try warp_scale=\"auto\".\n"
     ]
    },
    {
     "data": {
      "text/plain": [
       "<mayavi.modules.surface.Surface at 0x2965a1e5da0>"
      ]
     },
     "execution_count": 16,
     "metadata": {},
     "output_type": "execute_result"
    }
   ],
   "source": [
    "# test pyramid\n",
    "LEN = 100\n",
    "x,y = mgrid[0:LEN:1, 0:LEN:1]\n",
    "z = ones((LEN,LEN))\n",
    "\n",
    "for i in range(LEN):\n",
    "    z[i:-i, i:-i] = i*2.4\n",
    "\n",
    "mlab.clf()\n",
    "mlab.surf(x,y,z)\n",
    "mlab.surf(x,y,ones((LEN,LEN)))"
   ]
  },
  {
   "cell_type": "code",
   "execution_count": null,
   "id": "31585ef8-ca8d-4567-a29e-d8ce6ada8f95",
   "metadata": {},
   "outputs": [],
   "source": [
    "# test pyramid animation works yayyy\n",
    "LEN = 100\n",
    "x,y = mgrid[0:LEN:1, 0:LEN:1]\n",
    "z = ones((LEN,LEN))\n",
    "from time import sleep\n",
    "\n",
    "mlab.clf()\n",
    "mlab.surf(x,y,z)\n",
    "change = mlab.surf(x,y,ones((LEN,LEN)))\n",
    "\n",
    "@mlab.animate(delay=20)\n",
    "def anim():\n",
    "    for i in range(LEN):\n",
    "        z[i:-i, i:-i] = i*1.4\n",
    "        change.mlab_source.scalars = z\n",
    "        yield\n",
    "anim()\n",
    "mlab.show()\n"
   ]
  },
  {
   "cell_type": "code",
   "execution_count": 24,
   "id": "5b3e7a8b-1b6f-491b-85db-c57124bdf19d",
   "metadata": {},
   "outputs": [
    {
     "data": {
      "text/plain": [
       "<mayavi.tools.animator.Animator at 0x2965a873010>"
      ]
     },
     "execution_count": 24,
     "metadata": {},
     "output_type": "execute_result"
    }
   ],
   "source": [
    "mlab.test_flow_anim()"
   ]
  },
  {
   "cell_type": "code",
   "execution_count": null,
   "id": "b3ce3fb7-1390-4439-ad74-2fb9b991a276",
   "metadata": {},
   "outputs": [],
   "source": [
    "mlab.clf()"
   ]
  },
  {
   "cell_type": "code",
   "execution_count": 5,
   "id": "82704253-24a3-44ff-bdb6-74bc5d0d168b",
   "metadata": {},
   "outputs": [
    {
     "name": "stdout",
     "output_type": "stream",
     "text": [
      "Warning: the range of your scalar values differs by more than a factor 100 than the range of the grid values and you did not specify a warp_scale. You could try warp_scale=\"auto\".\n"
     ]
    },
    {
     "data": {
      "text/plain": [
       "<mayavi.tools.animator.Animator at 0x1bdbf977d30>"
      ]
     },
     "execution_count": 5,
     "metadata": {},
     "output_type": "execute_result"
    }
   ],
   "source": [
    "# test pyramid animation works yayyy\n",
    "from numpy import *\n",
    "from mayavi import mlab\n",
    "LEN = 100\n",
    "x,y = mgrid[0:LEN:1, 0:LEN:1]\n",
    "z = ones((LEN,LEN))\n",
    "from time import sleep\n",
    "\n",
    "mlab.clf()\n",
    "mlab.surf(x,y,z)\n",
    "change = mlab.surf(x,y,ones((LEN,LEN)), warp_scale =\"auto\")\n",
    "\n",
    "@mlab.animate(delay=10)\n",
    "def anim():\n",
    "    for i in range(LEN):\n",
    "        z[i:-i, i:-i] = i*1.4\n",
    "        change.mlab_source.scalars = z\n",
    "        yield\n",
    "anim()\n"
   ]
  },
  {
   "cell_type": "code",
   "execution_count": null,
   "id": "a9563ee8-3e57-4683-8973-6843b654def5",
   "metadata": {},
   "outputs": [],
   "source": []
  }
 ],
 "metadata": {
  "kernelspec": {
   "display_name": "Python 3 (ipykernel)",
   "language": "python",
   "name": "python3"
  },
  "language_info": {
   "codemirror_mode": {
    "name": "ipython",
    "version": 3
   },
   "file_extension": ".py",
   "mimetype": "text/x-python",
   "name": "python",
   "nbconvert_exporter": "python",
   "pygments_lexer": "ipython3",
   "version": "3.11.3"
  }
 },
 "nbformat": 4,
 "nbformat_minor": 5
}
